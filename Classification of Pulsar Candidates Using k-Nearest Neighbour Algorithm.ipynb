{
 "cells": [
  {
   "cell_type": "markdown",
   "metadata": {},
   "source": [
    "# Classification of Pulsar Candidates Using k-Nearest Neighbour Algorithm \n",
    "\n",
    "The HTRU2 data set contains information about pulsar candidates collected in the High Time Resolution Universe Survey. Each candidate is described using 8 features:\n",
    "\n",
    "1. Mean of the integrated pulse profile. \n",
    "2. Standard deviation of the integrated pulse profile. \n",
    "3. Excess kurtosis of the integrated pulse profile. \n",
    "4. Skewness of the integrated pulse profile. \n",
    "5. Mean of the DM-SNR curve. \n",
    "6. Standard deviation of the DM-SNR curve. \n",
    "7. Excess kurtosis of the DM-SNR curve. \n",
    "8. Skewness of the DM-SNR curve. \n",
    "9. Class \n",
    "\n",
    "The class of the candidate indicates whether it is a pulsar or just caused by RFI/noise. It takes on the value 1 (pulsar) or 0 (not a pulsar) accordingly. The data set contains 17,898 candidates of which 1,639 are pulsars. 16,000 data points from this set are used to train the model. 20 candidates from the remaining data are then used to test the model."
   ]
  },
  {
   "cell_type": "code",
   "execution_count": 39,
   "metadata": {},
   "outputs": [],
   "source": [
    "import numpy as np\n",
    "import pandas as pd\n",
    "import matplotlib.pyplot as plt\n",
    "import time\n",
    "from multiprocessing.dummy import Pool as ThreadPool \n",
    "from statistics import mode\n",
    "\n",
    "\n",
    "data = pd.read_csv('pulsar_stars.csv') # Source: R. J. Lyon, HTRU2, DOI: 10.6084/m9.figshare.3080389.v1. \n",
    "testdata = pd.read_csv('testdata.csv')\n",
    "features = data.columns[:8]\n",
    "labels = data.columns[8]\n",
    "\n",
    "# 16,000 points from the original file are used as training data.\n",
    "# 20 points selected from the remaining data are used as test data. Half are pulsars.\n",
    "\n",
    "train_data = data.iloc[:16000,:8]\n",
    "train_labels = data.iloc[:16000,8]\n",
    "\n",
    "test_data = testdata.iloc[:20, :8]\n",
    "test_labels = testdata.iloc[:20, 8]"
   ]
  },
  {
   "cell_type": "code",
   "execution_count": 48,
   "metadata": {},
   "outputs": [],
   "source": [
    "def dist(x,y):\n",
    "    return np.sum(np.square(x-y)) # Gets squared Euclidean distance between two vectors\n",
    "\n",
    "def NN(x):\n",
    "    distances = []\n",
    "    neighbours = []\n",
    "    k = 3 # Function uses three nearest neighbours to classify a test point\n",
    "    \n",
    "    for i in range(16000):\n",
    "        distances.append(dist(x,train_data.iloc[i,])) # Gets distance between test point and every training point\n",
    "    \n",
    "    distances = np.array(distances)\n",
    "    min_indices = distances.argsort()[:k] # Gets the smallest k distances \n",
    "    \n",
    "    for item in min_indices:\n",
    "        neighbours.append(train_labels[item]) # Gets the labels corresponding to those distances\n",
    "    \n",
    "    return mode(neighbours) # Returns the mode of those labels"
   ]
  },
  {
   "cell_type": "code",
   "execution_count": 50,
   "metadata": {},
   "outputs": [
    {
     "name": "stdout",
     "output_type": "stream",
     "text": [
      "Classification error  20.0 %\n",
      "Run time:  176.18247961997986 s\n"
     ]
    }
   ],
   "source": [
    "t_before = time.time()\n",
    "pool = ThreadPool(2) # Used to speed up O(n) run time of k-NN\n",
    "results = pool.map(NN, test_data.values)\n",
    "t_after = time.time()\n",
    "\n",
    "err_positions = np.not_equal(results, test_labels.values)\n",
    "error = float(np.sum(err_positions))/len(test_labels)\n",
    "perror = error * 100\n",
    "\n",
    "print(\"Classification error \", perror, \"%\")\n",
    "print(\"Run time: \", t_after - t_before, \"s\")\n",
    "\n"
   ]
  }
 ],
 "metadata": {
  "kernelspec": {
   "display_name": "Python 3",
   "language": "python",
   "name": "python3"
  },
  "language_info": {
   "codemirror_mode": {
    "name": "ipython",
    "version": 3
   },
   "file_extension": ".py",
   "mimetype": "text/x-python",
   "name": "python",
   "nbconvert_exporter": "python",
   "pygments_lexer": "ipython3",
   "version": "3.6.4"
  }
 },
 "nbformat": 4,
 "nbformat_minor": 2
}
